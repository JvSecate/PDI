{
 "cells": [
  {
   "cell_type": "markdown",
   "metadata": {
    "id": "h97z9V791UmX"
   },
   "source": [
    "##Código python  e imagem com as iniciais geradas em numpy."
   ]
  },
  {
   "cell_type": "code",
   "execution_count": 2,
   "metadata": {
    "colab": {
     "base_uri": "https://localhost:8080/",
     "height": 285
    },
    "executionInfo": {
     "elapsed": 407,
     "status": "ok",
     "timestamp": 1726069020902,
     "user": {
      "displayName": "Jv Secate",
      "userId": "05587224747462971178"
     },
     "user_tz": 180
    },
    "id": "KGeQ59BhqgAl",
    "outputId": "3f78f2f3-cb63-4184-85b8-8c6aab8f5d90"
   },
   "outputs": [
    {
     "ename": "ModuleNotFoundError",
     "evalue": "No module named 'matplotlib'",
     "output_type": "error",
     "traceback": [
      "\u001b[1;31m---------------------------------------------------------------------------\u001b[0m",
      "\u001b[1;31mModuleNotFoundError\u001b[0m                       Traceback (most recent call last)",
      "Cell \u001b[1;32mIn[2], line 2\u001b[0m\n\u001b[0;32m      1\u001b[0m \u001b[38;5;28;01mimport\u001b[39;00m \u001b[38;5;21;01mnumpy\u001b[39;00m \u001b[38;5;28;01mas\u001b[39;00m \u001b[38;5;21;01mnp\u001b[39;00m\n\u001b[1;32m----> 2\u001b[0m \u001b[38;5;28;01mimport\u001b[39;00m \u001b[38;5;21;01mmatplotlib\u001b[39;00m\u001b[38;5;21;01m.\u001b[39;00m\u001b[38;5;21;01mpyplot\u001b[39;00m \u001b[38;5;28;01mas\u001b[39;00m \u001b[38;5;21;01mplt\u001b[39;00m\n\u001b[0;32m      4\u001b[0m colunas \u001b[38;5;241m=\u001b[39m \u001b[38;5;241m31\u001b[39m\n\u001b[0;32m      5\u001b[0m linhas \u001b[38;5;241m=\u001b[39m \u001b[38;5;241m13\u001b[39m\n",
      "\u001b[1;31mModuleNotFoundError\u001b[0m: No module named 'matplotlib'"
     ]
    }
   ],
   "source": [
    "import numpy as np\n",
    "import matplotlib.pyplot as plt\n",
    "\n",
    "colunas = 31\n",
    "linhas = 13\n",
    "image_matrix = np.zeros([linhas, colunas])\n",
    "print(image_matrix.shape)\n",
    "\n",
    "#J\n",
    "image_matrix[3,5:11] = 255\n",
    "image_matrix[4:9,8] = 255\n",
    "image_matrix[9,6:8] = 255\n",
    "image_matrix[7:9,5] = 255\n",
    "\n",
    "#V\n",
    "n=5\n",
    "m=11\n",
    "for i in range(5):\n",
    "  image_matrix[n,m] = 255\n",
    "  n= n+1\n",
    "  if i%2 != 0:\n",
    "    m=m+1\n",
    "n=9\n",
    "m=13\n",
    "for i in range(5):\n",
    "  image_matrix[n,m] = 255\n",
    "  n= n-1\n",
    "  if i%2 == 0:\n",
    "    m=m+1\n",
    "\n",
    "#N\n",
    "image_matrix[5:10,17] = 255\n",
    "n=5\n",
    "m=18\n",
    "for i in range(5):\n",
    "  image_matrix[n,m] = 255\n",
    "  n= n+1\n",
    "  if i%2 != 0:\n",
    "    m=m+1\n",
    "image_matrix[5:10,20] = 255\n",
    "\n",
    "#S\n",
    "image_matrix[5,23:26] = 255\n",
    "image_matrix[6,22] = 255\n",
    "image_matrix[7,23:25] = 255\n",
    "image_matrix[8,25] = 255\n",
    "image_matrix[9,22:25] = 255\n",
    "\n",
    "plt.imshow(image_matrix, cmap='gray')\n",
    "plt.show()"
   ]
  }
 ],
 "metadata": {
  "colab": {
   "provenance": []
  },
  "kernelspec": {
   "display_name": "Python 3 (ipykernel)",
   "language": "python",
   "name": "python3"
  },
  "language_info": {
   "codemirror_mode": {
    "name": "ipython",
    "version": 3
   },
   "file_extension": ".py",
   "mimetype": "text/x-python",
   "name": "python",
   "nbconvert_exporter": "python",
   "pygments_lexer": "ipython3",
   "version": "3.12.3"
  }
 },
 "nbformat": 4,
 "nbformat_minor": 4
}
