{
 "cells": [
  {
   "cell_type": "markdown",
   "metadata": {
    "colab_type": "text",
    "id": "view-in-github"
   },
   "source": [
    "<a href=\"https://colab.research.google.com/github/JvSecate/PDI/blob/main/Atividades/Desafio_Stanford.ipynb\" target=\"_parent\"><img src=\"https://colab.research.google.com/assets/colab-badge.svg\" alt=\"Open In Colab\"/></a>"
   ]
  },
  {
   "cell_type": "markdown",
   "metadata": {
    "id": "7Gz71iJMsw7n"
   },
   "source": [
    "##Objetivo: Implementar códigos que utilizam operações básicas combinando duas imagens."
   ]
  },
  {
   "cell_type": "code",
   "execution_count": 1,
   "metadata": {
    "id": "ZwCTVqI-Rbm8"
   },
   "outputs": [
    {
     "ename": "ModuleNotFoundError",
     "evalue": "No module named 'ffmpeg'",
     "output_type": "error",
     "traceback": [
      "\u001b[1;31m---------------------------------------------------------------------------\u001b[0m",
      "\u001b[1;31mModuleNotFoundError\u001b[0m                       Traceback (most recent call last)",
      "Cell \u001b[1;32mIn[1], line 8\u001b[0m\n\u001b[0;32m      6\u001b[0m \u001b[38;5;28;01mfrom\u001b[39;00m \u001b[38;5;21;01mbase64\u001b[39;00m \u001b[38;5;28;01mimport\u001b[39;00m b64encode\n\u001b[0;32m      7\u001b[0m \u001b[38;5;28;01mimport\u001b[39;00m \u001b[38;5;21;01mos\u001b[39;00m\n\u001b[1;32m----> 8\u001b[0m \u001b[38;5;28;01mimport\u001b[39;00m \u001b[38;5;21;01mffmpeg\u001b[39;00m\n",
      "\u001b[1;31mModuleNotFoundError\u001b[0m: No module named 'ffmpeg'"
     ]
    }
   ],
   "source": [
    "import cv2\n",
    "import numpy as np\n",
    "from PIL import Image\n",
    "import matplotlib.pyplot as plt\n",
    "from IPython.display import HTML\n",
    "from base64 import b64encode\n",
    "import os\n",
    "from moviepy.video.io.VideoFileClip import VideoFileClip"
   ]
  },
  {
   "cell_type": "markdown",
   "metadata": {
    "id": "7so1BLKTt2-u"
   },
   "source": [
    "###Verificação de defeitos em placas: Basicamente realizando uma operação de subtração entre uma imagem de uma placa sem defeito com uma placa com defeito é possivel encontrar defeitos no processo de fabricação: [Defect_Detection](https://web.stanford.edu/class/ee368/Handouts/Lectures/Examples/3-Combining-Images/Defect_Detection/)"
   ]
  },
  {
   "cell_type": "code",
   "execution_count": null,
   "metadata": {
    "id": "cONRHBvwttHe"
   },
   "outputs": [],
   "source": [
    "def plot(imagem_sem_defeito, imagem_com_defeito, imagem_diferenca, imagem_limiar):\n",
    "  fig, ax = plt.subplots(nrows=2, ncols=2, figsize=(12, 12))\n",
    "  ax[0,0].imshow(imagem_sem_defeito, 'gray')\n",
    "  ax[0,0].set_title(\"Imagem sem defeito\")\n",
    "  ax[0,1].imshow(imagem_com_defeito, 'gray')\n",
    "  ax[0,1].set_title(\"Imagem com defeito\")\n",
    "  ax[1,0].imshow(imagem_diferenca, 'gray')\n",
    "  ax[1,0].set_title(\"Diferença\")\n",
    "  ax[1,1].imshow(imagem_limiar, 'gray')\n",
    "  ax[1,1].set_title(\"Imagem limiar\")\n",
    "  plt.show()\n",
    "\n",
    "def verifica():\n",
    "  imagem_sem_defeito = cv2.imread('images/pcbCroppedTranslated.png')\n",
    "  imagem_com_defeito = cv2.imread('images/pcbCroppedTranslatedDefected.png')\n",
    "  imagem_diferenca = cv2.absdiff(imagem_sem_defeito, imagem_com_defeito)\n",
    "  imagem_diferenca_gray = cv2.cvtColor(imagem_diferenca, cv2.COLOR_BGR2GRAY)\n",
    "  _, imagem_limiar = cv2.threshold(imagem_diferenca_gray, 30, 255,\n",
    "  cv2.THRESH_BINARY)\n",
    "\n",
    "  plot(imagem_sem_defeito, imagem_com_defeito, imagem_diferenca, imagem_limiar)\n",
    "\n",
    "  cv2.waitKey(0)\n",
    "  cv2.destroyAllWindows()"
   ]
  },
  {
   "cell_type": "code",
   "execution_count": null,
   "metadata": {
    "colab": {
     "base_uri": "https://localhost:8080/",
     "height": 1000
    },
    "id": "Jxo07yvcUoqb",
    "outputId": "f128a87c-4a2b-4fae-e7f8-5d87729a777c"
   },
   "outputs": [],
   "source": [
    "verifica()"
   ]
  },
  {
   "cell_type": "markdown",
   "metadata": {
    "id": "IgOT8MlRuP1d"
   },
   "source": [
    "###Detecção de movimento: A partir de um vídeo, ao realizar a subtração do fundo da cena sem nenhuma pessoa é possível detectar movimentos: [Background_Subtraction](https://web.stanford.edu/class/ee368/Handouts/Lectures/Examples/3-Combining-Images/Background_Subtraction/)"
   ]
  },
  {
   "cell_type": "code",
   "execution_count": null,
   "metadata": {
    "editable": true,
    "id": "wmaL6DqnszYu",
    "slideshow": {
     "slide_type": ""
    },
    "tags": []
   },
   "outputs": [],
   "source": [
    "def convert_mp4(input_path, output_path):\n",
    "        video = VideoFileClip(input_path)\n",
    "\n",
    "        # Write the video to MP4 format\n",
    "        print(f\"Salvo como {output_path}...\")\n",
    "        video.write_videofile(output_file, codec=\"libx264\", audio_codec=\"aac\")\n",
    "\n",
    "def exibir_video(video_path):\n",
    "    video_file = open(video_path, \"rb\").read()\n",
    "    video_url = f\"data:video/mp4;base64,{b64encode(video_file).decode()}\"\n",
    "    return HTML(f\"\"\"<video width=600 controls>\n",
    "                        <source src=\"{video_url}\" type=\"video/mp4\">\n",
    "                    </video>\"\"\")\n",
    "\n",
    "def detec():\n",
    "  cap = cv2.VideoCapture('videos/output.avi')\n",
    "  img = Image.open('images/Background_Subtraction_background.png')\n",
    "  if (cap.isOpened() == False):\n",
    "    print(\"Error reading video file\")\n",
    "  frame_width = int(cap.get(3))\n",
    "  frame_height = int(cap.get(4))\n",
    "  frame_rate = 30\n",
    "  size = (frame_width, frame_height)\n",
    "\n",
    "  backSub = cv2.createBackgroundSubtractorMOG2()\n",
    "  fourcc = cv2.VideoWriter_fourcc(*'MJPG')\n",
    "  result = cv2.VideoWriter('videos/video_output.avi', fourcc, frame_rate, size, 0)\n",
    "  background = np.array(img.convert('L'))\n",
    "\n",
    "  while True:\n",
    "    ret, frame = cap.read()\n",
    "    if ret == True:\n",
    "      gray_frame = cv2.cvtColor(frame, cv2.COLOR_BGR2GRAY)\n",
    "      gray = cv2.absdiff(gray_frame, background)\n",
    "      _, gray = cv2.threshold(gray, 30, 255, cv2.THRESH_BINARY)\n",
    "      result.write(gray)\n",
    "    else:\n",
    "      break\n",
    "\n",
    "  cap.release()\n",
    "  result.release()\n",
    "  print(\"Video saved as 'videos/video_output.avi'\")"
   ]
  },
  {
   "cell_type": "code",
   "execution_count": null,
   "metadata": {
    "colab": {
     "base_uri": "https://localhost:8080/"
    },
    "id": "UGyXWq7LX9V6",
    "outputId": "dc77385c-bbe6-43f1-aa2f-1420c5d76027"
   },
   "outputs": [],
   "source": [
    "detec()"
   ]
  },
  {
   "cell_type": "markdown",
   "metadata": {
    "id": "XdKZI7q8fWRv"
   },
   "source": [
    "####Video Original"
   ]
  },
  {
   "cell_type": "code",
   "execution_count": null,
   "metadata": {
    "colab": {
     "base_uri": "https://localhost:8080/",
     "height": 472
    },
    "editable": true,
    "id": "PU9_k0vafF0_",
    "outputId": "68bf0c4c-a8f7-43a2-902a-36223c73df34",
    "slideshow": {
     "slide_type": ""
    },
    "tags": []
   },
   "outputs": [],
   "source": [
    "convert_to_mp4('videos/output.avi', 'videos/output.mp4')\n",
    "display_video('videos/output.mp4')"
   ]
  },
  {
   "cell_type": "markdown",
   "metadata": {
    "id": "PALHAbAgfc03"
   },
   "source": [
    "####Detecção de movimento"
   ]
  },
  {
   "cell_type": "code",
   "execution_count": null,
   "metadata": {
    "colab": {
     "base_uri": "https://localhost:8080/",
     "height": 472
    },
    "id": "UfBQrKa5fFeI",
    "outputId": "fbdf5062-f6f5-40aa-faee-e7cbcf42e24c"
   },
   "outputs": [],
   "source": [
    "convert_to_mp4('videos/video_output.avi', 'videos/video_output.mp4')\n",
    "display_video('videos/video_output.mp4')"
   ]
  },
  {
   "cell_type": "code",
   "execution_count": null,
   "metadata": {},
   "outputs": [],
   "source": []
  }
 ],
 "metadata": {
  "colab": {
   "include_colab_link": true,
   "provenance": []
  },
  "kernelspec": {
   "display_name": "Python 3 (ipykernel)",
   "language": "python",
   "name": "python3"
  },
  "language_info": {
   "codemirror_mode": {
    "name": "ipython",
    "version": 3
   },
   "file_extension": ".py",
   "mimetype": "text/x-python",
   "name": "python",
   "nbconvert_exporter": "python",
   "pygments_lexer": "ipython3",
   "version": "3.12.3"
  }
 },
 "nbformat": 4,
 "nbformat_minor": 4
}
