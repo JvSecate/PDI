{
 "cells": [
  {
   "cell_type": "markdown",
   "metadata": {
    "id": "7Gz71iJMsw7n"
   },
   "source": [
    "##Desenvolver código para esteganografia em imagem tom de cinza e colorida."
   ]
  },
  {
   "cell_type": "code",
   "execution_count": null,
   "metadata": {
    "id": "emjTvct2uKpU"
   },
   "outputs": [],
   "source": [
    "import cv2\n",
    "import numpy as np\n",
    "from PIL import Image\n",
    "from numpy import asarray\n",
    "import matplotlib.pyplot as plt\n",
    "\n"
   ]
  },
  {
   "cell_type": "markdown",
   "metadata": {
    "id": "7so1BLKTt2-u"
   },
   "source": [
    "###Converter Mensagem para binário"
   ]
  },
  {
   "cell_type": "code",
   "execution_count": null,
   "metadata": {
    "id": "cONRHBvwttHe"
   },
   "outputs": [],
   "source": []
  },
  {
   "cell_type": "markdown",
   "metadata": {
    "id": "IgOT8MlRuP1d"
   },
   "source": [
    "###Encodar mensagem"
   ]
  },
  {
   "cell_type": "code",
   "execution_count": null,
   "metadata": {
    "id": "wmaL6DqnszYu"
   },
   "outputs": [],
   "source": []
  },
  {
   "cell_type": "code",
   "execution_count": null,
   "metadata": {
    "id": "nyp9l7291v4j"
   },
   "outputs": [],
   "source": []
  },
  {
   "cell_type": "code",
   "execution_count": null,
   "metadata": {
    "id": "xvZHBKrxwekt"
   },
   "outputs": [],
   "source": []
  },
  {
   "cell_type": "markdown",
   "metadata": {
    "id": "D7SAB-wMpaK1"
   },
   "source": [
    "\n",
    "##Exercícios - Transformações e Histograma\n",
    "\n",
    "\n",
    "#####Utilizar as imagens [Fig 3.8](https://ead.bri.ifsp.edu.br/moodle/mod/resource/view.php?id=72359) e [enhance-me](https://ead.bri.ifsp.edu.br/moodle/mod/resource/view.php?id=72360) disponíveis no Moodle.\n",
    "\n",
    "\n"
   ]
  },
  {
   "cell_type": "markdown",
   "metadata": {
    "id": "HujCi49hqBtz"
   },
   "source": [
    "###Aplicar a transformação logarítmica, testar vários valores para o parâmetro c \"s = c log (1 + r)\""
   ]
  },
  {
   "cell_type": "code",
   "execution_count": null,
   "metadata": {
    "id": "sWpr9kcrqPm9"
   },
   "outputs": [],
   "source": []
  },
  {
   "cell_type": "markdown",
   "metadata": {
    "id": "M1LBO4R1qP37"
   },
   "source": [
    "###Aplicar a transformação de potência (gama), testar vários valores para o parâmetro γ e c=1 \"s = crγ\""
   ]
  },
  {
   "cell_type": "code",
   "execution_count": null,
   "metadata": {
    "id": "Wzl3lip8qUYr"
   },
   "outputs": [],
   "source": []
  },
  {
   "cell_type": "markdown",
   "metadata": {
    "id": "HILmFl4TqVmL"
   },
   "source": [
    "###Implemente a representação de cada plano de bits das imagens.\n"
   ]
  },
  {
   "cell_type": "code",
   "execution_count": null,
   "metadata": {
    "id": "6muKnGn3qfri"
   },
   "outputs": [],
   "source": []
  },
  {
   "cell_type": "markdown",
   "metadata": {
    "id": "NOgWXqJ8qhDy"
   },
   "source": [
    "###Implementar a equalização do histograma manualmente e utilizando bibliotecas: OpenCV, Pillow, numpy, etc;"
   ]
  },
  {
   "cell_type": "code",
   "execution_count": null,
   "metadata": {
    "id": "yrc5-ueQqim6"
   },
   "outputs": [],
   "source": []
  }
 ],
 "metadata": {
  "colab": {
   "authorship_tag": "ABX9TyMW2AYdGeDNMH8laJ/6BhJe",
   "provenance": []
  },
  "kernelspec": {
   "display_name": "Python 3 (ipykernel)",
   "language": "python",
   "name": "python3"
  },
  "language_info": {
   "codemirror_mode": {
    "name": "ipython",
    "version": 3
   },
   "file_extension": ".py",
   "mimetype": "text/x-python",
   "name": "python",
   "nbconvert_exporter": "python",
   "pygments_lexer": "ipython3",
   "version": "3.12.3"
  }
 },
 "nbformat": 4,
 "nbformat_minor": 4
}
